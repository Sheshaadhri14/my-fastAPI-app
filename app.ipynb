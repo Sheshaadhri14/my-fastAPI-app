{
 "cells": [
  {
   "cell_type": "code",
   "execution_count": null,
   "id": "ec3cb246-c75e-4db3-8166-eed6eb44dc17",
   "metadata": {},
   "outputs": [],
   "source": [
    "\n"
   ]
  },
  {
   "cell_type": "code",
   "execution_count": 1,
   "id": "5b9cc7f9-8736-4044-81f8-d79505efe191",
   "metadata": {},
   "outputs": [
    {
     "name": "stderr",
     "output_type": "stream",
     "text": [
      "INFO:     Started server process [11112]\n",
      "INFO:     Waiting for application startup.\n",
      "INFO:     Application startup complete.\n",
      "INFO:     Uvicorn running on http://127.0.0.1:8000 (Press CTRL+C to quit)\n"
     ]
    },
    {
     "name": "stdout",
     "output_type": "stream",
     "text": [
      "INFO:     127.0.0.1:53775 - \"GET /detect_anomalies HTTP/1.1\" 200 OK\n",
      "Anomalies: ['r17', 'r19', 'r31']\n",
      "INFO:     127.0.0.1:53776 - \"GET /recommend_solutions_for_anomalies HTTP/1.1\" 200 OK\n",
      "Solutions for anomaly record ID 'r17':\n",
      "Solution RecordID: r8\n",
      "Solutions for anomaly record ID 'r19':\n",
      "Solution RecordID: r9\n",
      "Solutions for anomaly record ID 'r31':\n",
      "Solution RecordID: r8\n"
     ]
    }
   ],
   "source": [
    "from fastapi import FastAPI, HTTPException\n",
    "from pydantic import BaseModel\n",
    "import pandas as pd\n",
    "from sklearn.metrics.pairwise import cosine_similarity\n",
    "from sklearn.ensemble import IsolationForest\n",
    "from joblib import load\n",
    "import pickle\n",
    "\n",
    "app = FastAPI()\n",
    "\n",
    "# Load pre-trained models and feature names\n",
    "anomaly_model = load('anomaly_model.joblib')\n",
    "with open('feature_names.pkl', 'rb') as f:\n",
    "    feature_names = pickle.load(f)\n",
    "\n",
    "# Read the Excel file into a DataFrame\n",
    "data = pd.read_excel(r\"C:\\Users\\SHESHAADHRI\\OneDrive - vit.ac.in\\GG\\ENERGY.xlsx\")\n",
    "\n",
    "# Drop irrelevant columns and datetime columns\n",
    "data.drop(['UserID', 'Timestamp'], axis=1, inplace=True)\n",
    "\n",
    "# Handle missing values\n",
    "data.dropna(inplace=True)\n",
    "\n",
    "# One-hot encode categorical variables\n",
    "data = pd.get_dummies(data, columns=['EngineType', 'EnergySource'])\n",
    "\n",
    "# Convert RecordID to string\n",
    "data['RecordID'] = data['RecordID'].astype(str)\n",
    "\n",
    "# Select only numeric columns for the anomaly detection\n",
    "X_numeric = data.drop(['RecordID', 'AmountConsumed'], axis=1).select_dtypes(include=['number']).astype(float)\n",
    "\n",
    "# Calculate similarity matrix based on location and engine type\n",
    "def calculate_similarity_matrix(data):\n",
    "    location_columns = [col for col in data.columns if col.startswith('Location_')]\n",
    "    engine_type_columns = [col for col in data.columns if col.startswith('EngineType_')]\n",
    "    features = data[location_columns + engine_type_columns]\n",
    "    similarity_matrix = cosine_similarity(features, features)\n",
    "    return similarity_matrix\n",
    "\n",
    "similarity_matrix = calculate_similarity_matrix(data)\n",
    "\n",
    "# Detect anomalies\n",
    "anomaly_mask = anomaly_model.predict(X_numeric) == -1\n",
    "anomaly_records = data[anomaly_mask]\n",
    "\n",
    "# Function to recommend solutions\n",
    "def recommend_solutions(record_id, similarity_matrix, data):\n",
    "    record_index = data[data['RecordID'] == record_id].index[0]\n",
    "    location = data.loc[record_index, 'Location']\n",
    "    if 'EnergySource' in data.columns:\n",
    "        engine_source = data.loc[record_index, 'EnergySource']\n",
    "    else:\n",
    "        engine_source = 'Not available'\n",
    "    similar_records = data[(data['Location'] == location) & (data['AmountConsumed'] < data.loc[record_index, 'AmountConsumed'])]\n",
    "    best_solution = similar_records.sort_values(by=['AmountConsumed', 'CO2Emissions (kg)']).iloc[0]\n",
    "    return best_solution\n",
    "\n",
    "class RecordID(BaseModel):\n",
    "    record_id: str\n",
    "\n",
    "@app.get('/detect_anomalies')\n",
    "def detect_anomalies():\n",
    "    anomalies = anomaly_records['RecordID'].tolist()\n",
    "    return anomalies\n",
    "\n",
    "@app.post('/recommend_solution')\n",
    "def recommend_solution(record: RecordID):\n",
    "    record_id = record.record_id\n",
    "    if record_id not in data['RecordID'].values:\n",
    "        raise HTTPException(status_code=404, detail=\"Record ID not found\")\n",
    "    best_solution = recommend_solutions(record_id, similarity_matrix, data)\n",
    "    response = {\n",
    "        'RecordID': str(best_solution['RecordID']),\n",
    "        'Location': str(best_solution['Location']),\n",
    "        'EngineType': str(best_solution.get('EngineType', 'Not available')),\n",
    "        'AmountConsumed': float(best_solution['AmountConsumed']),\n",
    "        'CO2Emissions (kg)': float(best_solution['CO2Emissions (kg)'])\n",
    "    }\n",
    "    return response\n",
    "\n",
    "@app.get('/recommend_solutions_for_anomalies')\n",
    "def recommend_solutions_for_anomalies():\n",
    "    solutions = []\n",
    "    for record_id in anomaly_records['RecordID']:\n",
    "        best_solution = recommend_solutions(record_id, similarity_matrix, data)\n",
    "        solution = {\n",
    "            'AnomalyRecordID': record_id,\n",
    "            'SolutionRecordID': str(best_solution['RecordID'])\n",
    "        }\n",
    "        solutions.append(solution)\n",
    "    return solutions\n",
    "\n",
    "# Run the app in Jupyter notebook\n",
    "def start_server():\n",
    "    import uvicorn\n",
    "    uvicorn.run(app, host='127.0.0.1', port=8000)\n",
    "from threading import Thread\n",
    "import time\n",
    "\n",
    "# Start the FastAPI server in a new thread\n",
    "thread = Thread(target=start_server)\n",
    "thread.start()\n",
    "\n",
    "# Give the server a few seconds to start\n",
    "time.sleep(5)\n",
    "\n",
    "# Now you can make requests to the server as usual\n",
    "\n",
    "import requests\n",
    "\n",
    "# Detect anomalies\n",
    "response = requests.get(\"http://127.0.0.1:8000/detect_anomalies\")\n",
    "if response.status_code == 200:\n",
    "    anomalies = response.json()\n",
    "    print(\"Anomalies:\", anomalies)\n",
    "else:\n",
    "    print(\"Failed to retrieve anomalies:\", response.status_code)\n",
    "\n",
    "# Recommend solutions for all anomaly records\n",
    "response = requests.get(\"http://127.0.0.1:8000/recommend_solutions_for_anomalies\")\n",
    "if response.status_code == 200:\n",
    "    solutions = response.json()\n",
    "    for solution in solutions:\n",
    "        anomaly_id = solution['AnomalyRecordID']\n",
    "        sol_id = solution['SolutionRecordID']\n",
    "        print(f\"Solutions for anomaly record ID '{anomaly_id}':\")\n",
    "        print(f\"Solution RecordID: {sol_id}\")\n",
    "else:\n",
    "    print(\"Failed to retrieve solutions:\", response.status_code)\n"
   ]
  },
  {
   "cell_type": "code",
   "execution_count": null,
   "id": "eb4dbcd9-d223-4bec-8992-3622528c37ad",
   "metadata": {},
   "outputs": [],
   "source": []
  },
  {
   "cell_type": "code",
   "execution_count": null,
   "id": "954c220a-48bd-4018-abc3-b32ed7cbce4e",
   "metadata": {},
   "outputs": [],
   "source": [
    "\n"
   ]
  },
  {
   "cell_type": "code",
   "execution_count": null,
   "id": "2e799c71-6274-4770-b777-f1da22047391",
   "metadata": {},
   "outputs": [],
   "source": [
    "\n"
   ]
  },
  {
   "cell_type": "code",
   "execution_count": null,
   "id": "e7357727-4770-486d-9a54-7e4c697828ca",
   "metadata": {},
   "outputs": [],
   "source": []
  },
  {
   "cell_type": "code",
   "execution_count": null,
   "id": "5de77dc0-9b0d-43a5-b7cf-e0ea702c03a9",
   "metadata": {},
   "outputs": [],
   "source": [
    "\n"
   ]
  },
  {
   "cell_type": "code",
   "execution_count": null,
   "id": "6e9fe847-d113-43af-8a0f-49c2c6442f49",
   "metadata": {},
   "outputs": [],
   "source": [
    "\n"
   ]
  },
  {
   "cell_type": "code",
   "execution_count": null,
   "id": "aebc5b68-d261-4375-8479-b42008614a36",
   "metadata": {},
   "outputs": [],
   "source": [
    "\n"
   ]
  },
  {
   "cell_type": "code",
   "execution_count": null,
   "id": "1645c003-c8bc-4c86-97cd-dff5a1794487",
   "metadata": {},
   "outputs": [],
   "source": [
    "\n"
   ]
  },
  {
   "cell_type": "code",
   "execution_count": null,
   "id": "57e04526-9b6e-4ed3-918f-23bd8ee316e2",
   "metadata": {},
   "outputs": [],
   "source": [
    "\n"
   ]
  },
  {
   "cell_type": "code",
   "execution_count": null,
   "id": "c27f5c9c-020d-4b0c-903e-77c3807224a9",
   "metadata": {},
   "outputs": [],
   "source": []
  },
  {
   "cell_type": "code",
   "execution_count": null,
   "id": "411346f4-a7b0-497a-ae51-5bce9bd5faa7",
   "metadata": {},
   "outputs": [],
   "source": []
  },
  {
   "cell_type": "code",
   "execution_count": null,
   "id": "bae49ae0-909e-4f5e-97fb-634d6e582544",
   "metadata": {},
   "outputs": [],
   "source": []
  },
  {
   "cell_type": "code",
   "execution_count": null,
   "id": "220561ec-87d0-47f1-b321-1258cbc2bda4",
   "metadata": {},
   "outputs": [],
   "source": [
    "\n"
   ]
  },
  {
   "cell_type": "code",
   "execution_count": null,
   "id": "0fe36083-94d0-44c5-95a7-27f7f0cdc0d3",
   "metadata": {},
   "outputs": [],
   "source": [
    "\n"
   ]
  },
  {
   "cell_type": "code",
   "execution_count": null,
   "id": "22fee8ea-f36a-49ac-beca-815d601e561e",
   "metadata": {},
   "outputs": [],
   "source": []
  },
  {
   "cell_type": "code",
   "execution_count": null,
   "id": "bfcb9c36-44a8-4ca4-a38f-3f1ad1d493c2",
   "metadata": {},
   "outputs": [],
   "source": []
  },
  {
   "cell_type": "code",
   "execution_count": null,
   "id": "8ac20cdd-9e22-4a90-99a3-9aea18a84a10",
   "metadata": {},
   "outputs": [],
   "source": []
  }
 ],
 "metadata": {
  "kernelspec": {
   "display_name": "Python 3 (ipykernel)",
   "language": "python",
   "name": "python3"
  },
  "language_info": {
   "codemirror_mode": {
    "name": "ipython",
    "version": 3
   },
   "file_extension": ".py",
   "mimetype": "text/x-python",
   "name": "python",
   "nbconvert_exporter": "python",
   "pygments_lexer": "ipython3",
   "version": "3.11.7"
  }
 },
 "nbformat": 4,
 "nbformat_minor": 5
}
