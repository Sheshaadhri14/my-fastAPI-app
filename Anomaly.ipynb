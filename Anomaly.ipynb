{
 "cells": [
  {
   "cell_type": "code",
   "execution_count": 1,
   "id": "7b3d0a38-026b-4e38-b438-b363f4ae7b12",
   "metadata": {
    "scrolled": true
   },
   "outputs": [
    {
     "name": "stdout",
     "output_type": "stream",
     "text": [
      "Solutions for anomaly record ID 'r17':\n",
      "RecordID: r8, Location: L2, EngineType: Not available, AmountConsumed: 42.0\n",
      "Solutions for anomaly record ID 'r19':\n",
      "RecordID: r9, Location: L1, EngineType: Not available, AmountConsumed: 12.0\n",
      "Solutions for anomaly record ID 'r31':\n",
      "RecordID: r8, Location: L2, EngineType: Not available, AmountConsumed: 42.0\n"
     ]
    }
   ],
   "source": [
    "import pandas as pd\n",
    "from sklearn.metrics.pairwise import cosine_similarity\n",
    "from sklearn.ensemble import IsolationForest\n",
    "import pickle\n",
    "from joblib import dump, load\n",
    "\n",
    "# Read the Excel file into a DataFrame\n",
    "data = pd.read_excel(r\"C:\\Users\\SHESHAADHRI\\OneDrive - vit.ac.in\\GG\\ENERGY.xlsx\")\n",
    "\n",
    "# Drop irrelevant columns and datetime columns\n",
    "data.drop(['UserID', 'Timestamp'], axis=1, inplace=True)\n",
    "\n",
    "# Handle missing values\n",
    "data.dropna(inplace=True)\n",
    "\n",
    "# One-hot encode categorical variables\n",
    "data = pd.get_dummies(data, columns=['EngineType', 'EnergySource'])\n",
    "\n",
    "# Convert RecordID to string\n",
    "data['RecordID'] = data['RecordID'].astype(str)\n",
    "\n",
    "# Split data into features (X) and target (y)\n",
    "X = data.drop(['RecordID', 'AmountConsumed'], axis=1)  # Features\n",
    "y = data['AmountConsumed']  # Target\n",
    "\n",
    "# Select only numeric columns\n",
    "X_numeric = X.select_dtypes(include=['number'])\n",
    "\n",
    "# Ensure all columns in X_numeric are numeric\n",
    "X_numeric = X_numeric.astype(float)\n",
    "\n",
    "# Save feature names\n",
    "feature_names = X_numeric.columns.tolist()\n",
    "with open('feature_names.pkl', 'wb') as f:\n",
    "    pickle.dump(feature_names, f)\n",
    "\n",
    "# Train anomaly detection model\n",
    "anomaly_model = IsolationForest(contamination=0.1)  # Adjust contamination based on your data\n",
    "anomaly_model.fit(X_numeric)\n",
    "\n",
    "# Save the trained model using joblib\n",
    "dump(anomaly_model, 'anomaly_model.joblib')\n",
    "\n",
    "# Calculate similarity matrix based on location and engine type\n",
    "def calculate_similarity_matrix(data):\n",
    "    # Select features for similarity calculation\n",
    "    location_columns = [col for col in data.columns if col.startswith('Location_')]\n",
    "    engine_type_columns = [col for col in data.columns if col.startswith('EngineType_')]\n",
    "    features = data[location_columns + engine_type_columns]\n",
    "    \n",
    "    # Calculate cosine similarity matrix\n",
    "    similarity_matrix = cosine_similarity(features, features)\n",
    "    return similarity_matrix\n",
    "\n",
    "def recommend_solutions(record_id, similarity_matrix, data):\n",
    "    # Find index of given record ID\n",
    "    record_index = data[data['RecordID'] == record_id].index[0]\n",
    "    \n",
    "    # Get location of the given record\n",
    "    location = data.loc[record_index, 'Location']\n",
    "    \n",
    "    # Check if 'EnergySource' column exists in the DataFrame\n",
    "    if 'EnergySource' in data.columns:\n",
    "        # Get engine source of the given record\n",
    "        engine_source = data.loc[record_index, 'EnergySource']\n",
    "    else:\n",
    "        engine_source = 'Not available'\n",
    "    \n",
    "    # Get records with the same location but different engine source and less consumption\n",
    "    similar_records = data[(data['Location'] == location) &\n",
    "                           (data['AmountConsumed'] < data.loc[record_index, 'AmountConsumed'])]\n",
    "    \n",
    "    # Find the best solution based on least amount consumed and least CO2 emissions if tied\n",
    "    best_solution = similar_records.sort_values(by=['AmountConsumed', 'CO2Emissions (kg)']).iloc[0]\n",
    "    \n",
    "    return best_solution\n",
    "\n",
    "# Calculate similarity matrix\n",
    "similarity_matrix = calculate_similarity_matrix(data)\n",
    "\n",
    "# Detect anomalies\n",
    "anomaly_mask = anomaly_model.predict(X_numeric) == -1\n",
    "anomaly_records = data[anomaly_mask]\n",
    "\n",
    "# Recommend solutions for each anomaly\n",
    "for record_id in anomaly_records['RecordID']:\n",
    "    print(f\"Solutions for anomaly record ID '{record_id}':\")\n",
    "    best_solution = recommend_solutions(record_id, similarity_matrix, data)\n",
    "    print(f\"RecordID: {best_solution['RecordID']}, Location: {best_solution['Location']}, EngineType: {best_solution.get('EngineType', 'Not available')}, AmountConsumed: {best_solution['AmountConsumed']}\")\n"
   ]
  },
  {
   "cell_type": "code",
   "execution_count": null,
   "id": "929869d0-c8fa-4264-8d07-60dc0d84b973",
   "metadata": {},
   "outputs": [],
   "source": [
    "\n"
   ]
  },
  {
   "cell_type": "code",
   "execution_count": null,
   "id": "2e31a2ff-1d9b-4af4-930b-0b76b0c44a8d",
   "metadata": {},
   "outputs": [],
   "source": []
  },
  {
   "cell_type": "code",
   "execution_count": null,
   "id": "6f5d6d90-b1d0-4314-b5fc-eee3ea5b8e41",
   "metadata": {},
   "outputs": [],
   "source": [
    "\n"
   ]
  },
  {
   "cell_type": "code",
   "execution_count": null,
   "id": "22e203a0-4333-45ca-9318-5af8db02d51b",
   "metadata": {},
   "outputs": [],
   "source": [
    "\n"
   ]
  },
  {
   "cell_type": "code",
   "execution_count": null,
   "id": "af7200aa-394c-421c-a5db-5a6d6b4189a7",
   "metadata": {},
   "outputs": [],
   "source": []
  }
 ],
 "metadata": {
  "kernelspec": {
   "display_name": "Python 3 (ipykernel)",
   "language": "python",
   "name": "python3"
  },
  "language_info": {
   "codemirror_mode": {
    "name": "ipython",
    "version": 3
   },
   "file_extension": ".py",
   "mimetype": "text/x-python",
   "name": "python",
   "nbconvert_exporter": "python",
   "pygments_lexer": "ipython3",
   "version": "3.11.7"
  }
 },
 "nbformat": 4,
 "nbformat_minor": 5
}
